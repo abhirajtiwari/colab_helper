{
  "nbformat": 4,
  "nbformat_minor": 0,
  "metadata": {
    "colab": {
      "name": "snippets.ipynb",
      "provenance": [],
      "toc_visible": true,
      "authorship_tag": "ABX9TyNqLUkNxQJkQCIcLTT0aRn+",
      "include_colab_link": true
    },
    "kernelspec": {
      "name": "python3",
      "display_name": "Python 3"
    }
  },
  "cells": [
    {
      "cell_type": "markdown",
      "metadata": {
        "id": "view-in-github",
        "colab_type": "text"
      },
      "source": [
        "<a href=\"https://colab.research.google.com/github/abhirajtiwari/colab_helper/blob/master/snippets.ipynb\" target=\"_parent\"><img src=\"https://colab.research.google.com/assets/colab-badge.svg\" alt=\"Open In Colab\"/></a>"
      ]
    },
    {
      "cell_type": "markdown",
      "metadata": {
        "id": "2ZKmdKv-E4mN",
        "colab_type": "text"
      },
      "source": [
        "# Colab helper setup"
      ]
    },
    {
      "cell_type": "code",
      "metadata": {
        "id": "f-RA6fv1E11b",
        "colab_type": "code",
        "colab": {
          "base_uri": "https://localhost:8080/",
          "height": 71
        },
        "outputId": "058fbfb2-0643-4b48-f5c8-a7fc7bf5aa2b"
      },
      "source": [
        "!git clone https://github.com/abhirajtiwari/colab_helper.git\n",
        "from google.colab import drive\n",
        "drive.mount('/gdrive')\n",
        "!cp /gdrive/My\\ Drive/secrets.py colab_helper/\n",
        "import colab_helper.colab_helper as colab_helper\n",
        "colab_helper.tg_sendMessage(\"Colab helper initialized\")\n",
        "print(\"Colab Helper Initialized\")"
      ],
      "execution_count": 5,
      "outputs": [
        {
          "output_type": "stream",
          "text": [
            "fatal: destination path 'colab_helper' already exists and is not an empty directory.\n",
            "Drive already mounted at /gdrive; to attempt to forcibly remount, call drive.mount(\"/gdrive\", force_remount=True).\n",
            "Colab Helper Initialized\n"
          ],
          "name": "stdout"
        }
      ]
    }
  ]
}